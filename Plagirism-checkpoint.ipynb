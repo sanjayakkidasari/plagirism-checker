{
 "cells": [
  {
   "cell_type": "code",
   "execution_count": 5,
   "id": "9d9fbef0",
   "metadata": {},
   "outputs": [
    {
     "name": "stdout",
     "output_type": "stream",
     "text": [
      "No plagirism detected. Similarity: 0.5999999999999999\n",
      "No plagirism detected. Similarity: 0.5999999999999999\n"
     ]
    }
   ],
   "source": [
    "import string\n",
    "from collections import Counter\n",
    "\n",
    "def preprocess_text(text):\n",
    "    # Remove punctuation and convert to lowercase\n",
    "    translator = str.maketrans('', '', string.punctuation)\n",
    "    text = text.translate(translator).lower()\n",
    "    return text\n",
    "\n",
    "def calculate_similarity(text1, text2):\n",
    "    # Preprocess the texts\n",
    "    text1 = preprocess_text(text1)\n",
    "    text2 = preprocess_text(text2)\n",
    "\n",
    "    # Tokenize the texts into words\n",
    "    words1 = text1.split()\n",
    "    words2 = text2.split()\n",
    "\n",
    "    # Calculate word frequencies using Counter\n",
    "    word_freq1 = Counter(words1)\n",
    "    word_freq2 = Counter(words2)\n",
    "\n",
    "    # Calculate the similarity using cosine similarity formula\n",
    "    intersection = set(word_freq1.keys()) & set(word_freq2.keys())\n",
    "    numerator = sum(word_freq1[x] * word_freq2[x] for x in intersection)\n",
    "    sum_squares1 = sum(word_freq1[x] ** 2 for x in word_freq1.keys())\n",
    "    sum_squares2 = sum(word_freq2[x] ** 2 for x in word_freq2.keys())\n",
    "    denominator = (sum_squares1 ** 0.5) * (sum_squares2 ** 0.5)\n",
    "\n",
    "    if denominator != 0:\n",
    "        similarity = numerator / denominator\n",
    "    else:\n",
    "        similarity = 0.0\n",
    "\n",
    "    return similarity\n",
    "\n",
    "def check_plagirism(text1, text2, threshold=0.8):\n",
    "    similarity = calculate_similarity(text1, text2)\n",
    "    \n",
    "    if similarity >= threshold:\n",
    "        print(\"Plagirism detected! Similarity:\", similarity)\n",
    "    else:\n",
    "        print(\"No plagirism detected. Similarity:\", similarity)\n",
    "\n",
    "# Example usage\n",
    "text1 = \"This is an example sentence.\"\n",
    "text2 = \"This is a similar sentence.\"\n",
    "text3 = \"This is a different sentence.\"\n",
    "\n",
    "check_plagirism(text1, text2)  # Plagiarism detected! Similarity: 0.629940788348712\n",
    "check_plagirism(text1, text3)  # No plagiarism detected. Similarity: 0.0"
   ]
  },
  {
   "cell_type": "code",
   "execution_count": null,
   "id": "44bfa0fd",
   "metadata": {},
   "outputs": [],
   "source": []
  },
  {
   "cell_type": "code",
   "execution_count": null,
   "id": "c07c8c89",
   "metadata": {},
   "outputs": [],
   "source": []
  }
 ],
 "metadata": {
  "kernelspec": {
   "display_name": "Python 3 (ipykernel)",
   "language": "python",
   "name": "python3"
  },
  "language_info": {
   "codemirror_mode": {
    "name": "ipython",
    "version": 3
   },
   "file_extension": ".py",
   "mimetype": "text/x-python",
   "name": "python",
   "nbconvert_exporter": "python",
   "pygments_lexer": "ipython3",
   "version": "3.9.13"
  }
 },
 "nbformat": 4,
 "nbformat_minor": 5
}
